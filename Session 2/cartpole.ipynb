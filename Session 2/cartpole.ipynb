{
 "cells": [
  {
   "cell_type": "code",
   "execution_count": null,
   "metadata": {},
   "outputs": [],
   "source": [
    "# cartpole  Basics\n",
    "\n",
    "# The problem consists of balancing a pole connected with one joint on top of a moving cart.\n",
    "# In CartPole's environment, there are four observations at any given state, \n",
    "# representing information such as  [Poisition of Cart, Velocity of Cart, angle of Pole, rotation rate of Pole]\n",
    "# Using these observations, the agent needs to decide on one of two possible actions: move the cart left or right."
   ]
  },
  {
   "cell_type": "code",
   "execution_count": 12,
   "metadata": {},
   "outputs": [],
   "source": [
    "import gym"
   ]
  },
  {
   "cell_type": "markdown",
   "metadata": {},
   "source": [
    "Cartpole \n",
    "\n",
    "![title](Pictures/cartpole_1.png)"
   ]
  },
  {
   "cell_type": "code",
   "execution_count": 13,
   "metadata": {},
   "outputs": [],
   "source": [
    "# First Step is to create our environment"
   ]
  },
  {
   "cell_type": "code",
   "execution_count": 14,
   "metadata": {},
   "outputs": [],
   "source": [
    "env = gym.make('CartPole-v0')"
   ]
  },
  {
   "cell_type": "code",
   "execution_count": 15,
   "metadata": {},
   "outputs": [],
   "source": [
    "# second step is to reset the environment, and get the initial observation\n",
    "# render, displays the environment to us, in a popup window"
   ]
  },
  {
   "cell_type": "code",
   "execution_count": 16,
   "metadata": {},
   "outputs": [
    {
     "data": {
      "text/plain": [
       "True"
      ]
     },
     "execution_count": 16,
     "metadata": {},
     "output_type": "execute_result"
    }
   ],
   "source": [
    "observation = env.reset()\n",
    "env.render()"
   ]
  },
  {
   "cell_type": "code",
   "execution_count": 17,
   "metadata": {},
   "outputs": [],
   "source": [
    "# Episode is one sequence of states, actions and rewards, which ends with terminal state.( start of game till end of game)\n",
    "\n",
    "# create a loop to take timestep ( action & observation) , until the episode terminates.\n"
   ]
  },
  {
   "cell_type": "code",
   "execution_count": null,
   "metadata": {},
   "outputs": [],
   "source": []
  },
  {
   "cell_type": "code",
   "execution_count": null,
   "metadata": {},
   "outputs": [],
   "source": [
    "done=False\n",
    "counter=0\n",
    "\n",
    "while True:\n",
    "    env.render()\n",
    "    counter+=1\n",
    "    action = env.action_space.sample()\n",
    "    \n",
    "    observation, reward,done,info = env.step(action)\n",
    "    #if done:\n",
    "     #break\n",
    "print('Game lasted steps', counter)  \n",
    "env.close()\n",
    "env.env.close()  # hack solution to environments not closing"
   ]
  },
  {
   "cell_type": "code",
   "execution_count": null,
   "metadata": {},
   "outputs": [],
   "source": []
  }
 ],
 "metadata": {
  "kernelspec": {
   "display_name": "Python 3",
   "language": "python",
   "name": "python3"
  },
  "language_info": {
   "codemirror_mode": {
    "name": "ipython",
    "version": 3
   },
   "file_extension": ".py",
   "mimetype": "text/x-python",
   "name": "python",
   "nbconvert_exporter": "python",
   "pygments_lexer": "ipython3",
   "version": "3.6.8"
  }
 },
 "nbformat": 4,
 "nbformat_minor": 2
}
