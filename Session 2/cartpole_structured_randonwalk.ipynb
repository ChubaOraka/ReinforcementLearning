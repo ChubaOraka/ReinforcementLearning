{
 "cells": [
  {
   "cell_type": "code",
   "execution_count": null,
   "metadata": {},
   "outputs": [],
   "source": [
    "# cartpole  Basic Randon Search\n",
    "\n",
    "# Keep trying random weights between[-1,1] and keep the best one.\n",
    "\n",
    "# The problem consists of balancing a pole connected with one joint on top of a moving cart.\n",
    "# In CartPole's environment, there are four observations at any given state, \n",
    "# representing information such as  [Poisition of Cart, Velocity of Cart, angle of Pole, rotation rate of Pole]\n",
    "# Using these observations, the agent needs to decide on one of two possible actions: move the cart left or right."
   ]
  },
  {
   "cell_type": "code",
   "execution_count": null,
   "metadata": {},
   "outputs": [],
   "source": [
    "import gym\n",
    "import numpy as np\n",
    "import matplotlib.pyplot as plt\n",
    "%matplotlib inline"
   ]
  },
  {
   "cell_type": "code",
   "execution_count": null,
   "metadata": {},
   "outputs": [],
   "source": [
    "# EPISODE is one sequence of states, actions and rewards, which ends with terminal state.( start of game till end of game)\n",
    "# TIMESTEP is  a single state , action and reward\n",
    "\n",
    "EPISODE=20000\n",
    "TIMESTEP=2000"
   ]
  },
  {
   "cell_type": "code",
   "execution_count": null,
   "metadata": {},
   "outputs": [],
   "source": [
    "# 4 random numbers between [-1,1] for cartpole-v0 parameters\n",
    "# retuns a numpy array of length of 4.\n",
    "\n",
    "def randomSearch():\n",
    "    return np.random.uniform(-1,1,4)"
   ]
  },
  {
   "cell_type": "code",
   "execution_count": null,
   "metadata": {},
   "outputs": [],
   "source": [
    "def runEpisode(env,parameters,episodeNo):\n",
    "    observation=env.reset()\n",
    "    totalSteps=[]\n",
    "    done=False\n",
    "    tr=0\n",
    "    for j in range(TIMESTEP):\n",
    "        \n",
    "            if episodeNo % 100 == 0 :\n",
    "                env.render() \n",
    "            \n",
    "            action = 0 if np.matmul(parameters,observation) < 0 else 1\n",
    "           \n",
    "            observation, reward,done,info = env.step(action)\n",
    "            \n",
    "            tr += reward\n",
    "            \n",
    "            #print(observation)\n",
    "            #print(reward)\n",
    "          \n",
    "            if done or tr >=200:\n",
    "                break\n",
    "   \n",
    "    return tr\n",
    "                "
   ]
  },
  {
   "cell_type": "code",
   "execution_count": null,
   "metadata": {},
   "outputs": [],
   "source": [
    "# Create an EPISODES Loop ( Note we reset the env on each episode)\n",
    "# In each EPISODE, we create a TIMESTEP loop to take action & observation, until this episode terminates, or we reach the end of TIMESTEP .\n",
    "# Observation is a [Poisition of Cart, Velocity of Cart, angle of Pole, rotation rate of Pole]"
   ]
  },
  {
   "cell_type": "code",
   "execution_count": null,
   "metadata": {},
   "outputs": [],
   "source": [
    "def main():\n",
    "    \n",
    "    env = gym.make('CartPole-v0')\n",
    "    \n",
    "    totalRewards=[]\n",
    "    bestReward=0\n",
    "    \n",
    "    for i in range(EPISODE):\n",
    "        parameters = randomSearch()\n",
    "        print(parameters)\n",
    "        reward = runEpisode(env,parameters,i)\n",
    "        totalRewards.append(reward)\n",
    "    \n",
    "        if reward > bestReward:\n",
    "            bestReward=reward\n",
    "            bestParameters=parameters\n",
    "        \n",
    "        if reward >=200:\n",
    "            print(\"200 achieved in episode {}\".format(i))\n",
    "            \n",
    "    print(\"Average reward after {0} consecutive trials: {1}\".format(EPISODE,sum(totalRewards)/EPISODE))\n",
    "    print(\"Best reward {0}\".format(bestReward))\n",
    "    print(\"Best Parmaters {0}\".format(bestParameters))\n",
    "    \n",
    "     \n",
    "    env.close()\n",
    "    env.env.close()  # hack solution to environments not closing\n",
    "    plotChart(totalRewards)"
   ]
  },
  {
   "cell_type": "code",
   "execution_count": null,
   "metadata": {},
   "outputs": [],
   "source": [
    "def plotChart(rew):\n",
    "  \n",
    "    fig=plt.figure()\n",
    "    ax = fig.add_subplot(111)\n",
    "    plt.plot(np.arange(1,len(rew)+1),rew)\n",
    "    plt.ylabel(\"Rewards\")\n",
    "    plt.xlabel(\"Episode #\")\n",
    "    plt.show()"
   ]
  },
  {
   "cell_type": "code",
   "execution_count": null,
   "metadata": {},
   "outputs": [],
   "source": [
    "if __name__==\"__main__\":\n",
    "    main()"
   ]
  },
  {
   "cell_type": "code",
   "execution_count": null,
   "metadata": {},
   "outputs": [],
   "source": []
  }
 ],
 "metadata": {
  "kernelspec": {
   "display_name": "Python 3",
   "language": "python",
   "name": "python3"
  },
  "language_info": {
   "codemirror_mode": {
    "name": "ipython",
    "version": 3
   },
   "file_extension": ".py",
   "mimetype": "text/x-python",
   "name": "python",
   "nbconvert_exporter": "python",
   "pygments_lexer": "ipython3",
   "version": "3.6.8"
  }
 },
 "nbformat": 4,
 "nbformat_minor": 2
}
