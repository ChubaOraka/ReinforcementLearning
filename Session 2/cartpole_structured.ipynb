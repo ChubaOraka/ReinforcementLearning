{
 "cells": [
  {
   "cell_type": "code",
   "execution_count": 1,
   "metadata": {},
   "outputs": [],
   "source": [
    "# cartpole  Basic Structured Program Template\n",
    "\n",
    "# The problem consists of balancing a pole connected with one joint on top of a moving cart.\n",
    "# In CartPole's environment, there are four observations at any given state, \n",
    "# representing information such as  [Poisition of Cart, Velocity of Cart, angle of Pole, rotation rate of Pole]\n",
    "# Using these observations, the agent needs to decide on one of two possible actions: move the cart left or right."
   ]
  },
  {
   "cell_type": "markdown",
   "metadata": {},
   "source": [
    "Cartpole \n",
    "\n",
    "![title](Pictures/cartpole_1.png)"
   ]
  },
  {
   "cell_type": "code",
   "execution_count": 2,
   "metadata": {},
   "outputs": [],
   "source": [
    "import gym\n",
    "import numpy as np"
   ]
  },
  {
   "cell_type": "code",
   "execution_count": 3,
   "metadata": {},
   "outputs": [],
   "source": [
    "# EPISODE is one sequence of states, actions and rewards, which ends with terminal state.( start of game till end of game)\n",
    "# TIMESTEP is  a single state , action and reward"
   ]
  },
  {
   "cell_type": "code",
   "execution_count": 4,
   "metadata": {},
   "outputs": [],
   "source": [
    "EPISODE=20\n",
    "TIMESTEP=200"
   ]
  },
  {
   "cell_type": "code",
   "execution_count": 5,
   "metadata": {},
   "outputs": [],
   "source": [
    "# Create an EPISODES Loop ( Note we reset the env on each episode)\n",
    "# In each EPISODE, we create a TIMESTEP loop to take action & observation, until this episode terminates, or we reach the end of TIMESTEP .\n",
    "# Observation is a [Poisition of Cart, Velocity of Cart, angle of Pole, rotation rate of Pole]"
   ]
  },
  {
   "cell_type": "code",
   "execution_count": 6,
   "metadata": {},
   "outputs": [],
   "source": [
    "def runEpisode(env):\n",
    "    observation=env.reset()\n",
    "    counter=0\n",
    "    done=False\n",
    " \n",
    "    for j in range(TIMESTEP):\n",
    "        env.render()\n",
    "        counter +=1\n",
    "        action = env.action_space.sample()\n",
    "        observation, reward,done,info = env.step(action)\n",
    "        #print(observation)\n",
    "        #print(reward)\n",
    "          \n",
    "        if done:\n",
    "            break\n",
    "    return counter"
   ]
  },
  {
   "cell_type": "code",
   "execution_count": 7,
   "metadata": {},
   "outputs": [],
   "source": [
    "# First Step is to create our environment\n",
    "\n",
    "def main():\n",
    "    env = gym.make('CartPole-v1')\n",
    "    \n",
    "    for i in range(EPISODE):\n",
    "        counter=runEpisode(env)\n",
    "        print(\"In Episode {0}, Game lasted  {1} steps\".format(i,counter))  \n",
    "#close the environment\n",
    "    env.close()\n",
    "    env.env.close()"
   ]
  },
  {
   "cell_type": "code",
   "execution_count": 8,
   "metadata": {},
   "outputs": [
    {
     "name": "stdout",
     "output_type": "stream",
     "text": [
      "In Episode 20, Game lasted  10 steps\n",
      "In Episode 20, Game lasted  11 steps\n",
      "In Episode 20, Game lasted  25 steps\n",
      "In Episode 20, Game lasted  13 steps\n",
      "In Episode 20, Game lasted  16 steps\n",
      "In Episode 20, Game lasted  19 steps\n",
      "In Episode 20, Game lasted  35 steps\n",
      "In Episode 20, Game lasted  30 steps\n",
      "In Episode 20, Game lasted  16 steps\n",
      "In Episode 20, Game lasted  48 steps\n",
      "In Episode 20, Game lasted  44 steps\n",
      "In Episode 20, Game lasted  28 steps\n",
      "In Episode 20, Game lasted  16 steps\n",
      "In Episode 20, Game lasted  30 steps\n",
      "In Episode 20, Game lasted  16 steps\n",
      "In Episode 20, Game lasted  17 steps\n",
      "In Episode 20, Game lasted  17 steps\n",
      "In Episode 20, Game lasted  14 steps\n",
      "In Episode 20, Game lasted  33 steps\n",
      "In Episode 20, Game lasted  37 steps\n"
     ]
    }
   ],
   "source": [
    "if __name__==\"__main__\":\n",
    "    main()"
   ]
  },
  {
   "cell_type": "code",
   "execution_count": null,
   "metadata": {},
   "outputs": [],
   "source": []
  }
 ],
 "metadata": {
  "kernelspec": {
   "display_name": "Python 3",
   "language": "python",
   "name": "python3"
  },
  "language_info": {
   "codemirror_mode": {
    "name": "ipython",
    "version": 3
   },
   "file_extension": ".py",
   "mimetype": "text/x-python",
   "name": "python",
   "nbconvert_exporter": "python",
   "pygments_lexer": "ipython3",
   "version": "3.6.8"
  }
 },
 "nbformat": 4,
 "nbformat_minor": 2
}
