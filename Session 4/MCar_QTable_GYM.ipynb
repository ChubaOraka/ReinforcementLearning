{
 "cells": [
  {
   "cell_type": "code",
   "execution_count": null,
   "metadata": {},
   "outputs": [],
   "source": [
    "#Environment gym \n",
    "import numpy as np\n",
    "import gym\n",
    "from gym import wrappers\n",
    "np.random.seed(0)\n"
   ]
  },
  {
   "cell_type": "code",
   "execution_count": null,
   "metadata": {},
   "outputs": [],
   "source": [
    "n_states = 5\n",
    "EPISODE = 10000\n",
    "TIMESTEP = 1000\n",
    "\n",
    "initial_lr = 1.0 #Initial Learning rate\n",
    "min_lr = 0.003\n",
    "discount_rate = .9\n",
    "eps = 0.02\n",
    "\n",
    "env = gym.make('MountainCar-v0')\n",
    "env.seed(0)\n",
    "\n",
    "q_table = np.zeros((n_states, n_states, env.action_space.n))\n",
    " "
   ]
  },
  {
   "cell_type": "code",
   "execution_count": null,
   "metadata": {},
   "outputs": [],
   "source": [
    "def train():\n",
    "    for i in range(EPISODE):\n",
    "        obs = env.reset()\n",
    "        tot_reward = 0\n",
    "        ## lr: learning rate is decreased at each step\n",
    "        lr = max(min_lr, initial_lr * (0.85 ** (i//100)))\n",
    "        for iter in range(TIMESTEP):\n",
    "          \n",
    "            #env.render()\n",
    "            state = obs_to_state(obs)\n",
    "            \n",
    "            if np.random.uniform(0, 1) < eps:\n",
    "                action = np.random.choice(env.action_space.n)\n",
    "            else:\n",
    "                logits = q_table[state]\n",
    "                logits_exp = np.exp(logits)\n",
    "                probs = logits_exp / np.sum(logits_exp)\n",
    "                action = np.random.choice(env.action_space.n, p=probs)\n",
    "            obs, reward, done, info = env.step(action)\n",
    "            tot_reward += reward\n",
    "            # update q table\n",
    "            new_state = obs_to_state(obs)\n",
    "            q_table[state + (action,)] = q_table[state + (action,)] + lr * (reward + discount_rate *  np.max(q_table[new_state]) - q_table[state + (action, )])\n",
    "            if done:\n",
    "                break\n",
    "       # if i % 100 == 0:\n",
    "        print('Iteration #{} -- Total reward = {}.'.format(i+1, tot_reward))\n"
   ]
  },
  {
   "cell_type": "code",
   "execution_count": null,
   "metadata": {},
   "outputs": [],
   "source": [
    "def obs_to_state(obs):\n",
    "    \"\"\" Maps an observation to state \"\"\"\n",
    "    env_low = env.observation_space.low\n",
    "    env_high = env.observation_space.high\n",
    "    env_dx = (env_high - env_low) / n_states\n",
    "    a = int((obs[0] - env_low[0])/env_dx[0])  # position\n",
    "    b = int((obs[1] - env_low[1])/env_dx[1])  # velocity\n",
    "    return a, b"
   ]
  },
  {
   "cell_type": "code",
   "execution_count": null,
   "metadata": {},
   "outputs": [],
   "source": [
    "def run(policy=None):\n",
    "    obs = env.reset()\n",
    "    total_reward = 0\n",
    "    step_idx = 0\n",
    "    for iter in range(TIMESTEP):\n",
    "        env.render()\n",
    "        if policy is None:\n",
    "            action = env.action_space.sample()\n",
    "        else:\n",
    "            state =  obs_to_state(obs)\n",
    "            action = policy[state]\n",
    "    \n",
    "        obs, reward, done, info = env.step(action)\n",
    "        total_reward += discount_factor ** step_idx * reward\n",
    "        step_idx += 1\n",
    "        \n",
    "        if done:\n",
    "            break\n",
    "            \n",
    "    return total_reward"
   ]
  },
  {
   "cell_type": "code",
   "execution_count": null,
   "metadata": {},
   "outputs": [],
   "source": [
    "if __name__ == '__main__':\n",
    "    train()\n",
    "    solution_policy = np.argmax(q_table, axis=2)\n",
    "    print(\"Solution policy\")\n",
    "    print(q_table)\n",
    "\n",
    "    # Animate it\n",
    "    solution_policy_scores = [run( policy=solution_policy) for _ in range(100)]\n",
    "    print(\"Average score of solution = \", np.mean(solution_policy_scores))\n",
    "    run(policy=solution_policy)"
   ]
  },
  {
   "cell_type": "code",
   "execution_count": null,
   "metadata": {},
   "outputs": [],
   "source": []
  },
  {
   "cell_type": "code",
   "execution_count": null,
   "metadata": {},
   "outputs": [],
   "source": []
  }
 ],
 "metadata": {
  "kernelspec": {
   "display_name": "Python 3",
   "language": "python",
   "name": "python3"
  },
  "language_info": {
   "codemirror_mode": {
    "name": "ipython",
    "version": 3
   },
   "file_extension": ".py",
   "mimetype": "text/x-python",
   "name": "python",
   "nbconvert_exporter": "python",
   "pygments_lexer": "ipython3",
   "version": "3.6.8"
  }
 },
 "nbformat": 4,
 "nbformat_minor": 2
}
